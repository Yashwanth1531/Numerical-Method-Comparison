{
 "cells": [
  {
   "cell_type": "markdown",
   "id": "17d6f209",
   "metadata": {},
   "source": [
    "+  **Author : YASHWANTH**\n",
    "+   **DATE   : 6/01/2023**\n",
    "+  **Reg.No : ME22MTECH11019**"
   ]
  },
  {
   "cell_type": "markdown",
   "id": "1b9caf13",
   "metadata": {},
   "source": [
    "## Problem: NEWTON_RAPHSON\n",
    "+ **Find square-root of 10:**\n",
    "\\begin{equation} x = \\sqrt{10}  \\end{equation}\n",
    "\n",
    "+ **Polynomial equation:**\n",
    "\\begin{equation} [ x^2 - 10 = 0 = f(x)] --->(1) \\end{equation}"
   ]
  },
  {
   "cell_type": "code",
   "execution_count": 1,
   "id": "d3a7f4e9",
   "metadata": {},
   "outputs": [],
   "source": [
    "import numpy as np\n",
    "import scipy as sp\n",
    "import numpy.polynomial.polynomial as root\n",
    "import math as mt\n",
    "import pandas as pd\n",
    "import matplotlib.pyplot as plt"
   ]
  },
  {
   "cell_type": "markdown",
   "id": "b62b15fe",
   "metadata": {},
   "source": [
    "+ **Excat solutions:**\n",
    "  + using:   np.polynomial.polynomial.polyroots(coeff_array)\n",
    "     + coeff_array = **(c, b, a)**\n",
    "     for $ax^2+bx+c=0$\n",
    "  + using math.sqrt() function"
   ]
  },
  {
   "cell_type": "code",
   "execution_count": 2,
   "id": "bbcdecd9",
   "metadata": {},
   "outputs": [
    {
     "name": "stdout",
     "output_type": "stream",
     "text": [
      "[-3.16227766  3.16227766] 3.1622776601683795\n"
     ]
    }
   ],
   "source": [
    "coeff = (-10,0,1)\n",
    "excat_root = np.polynomial.polynomial.polyroots(coeff)\n",
    "print(excat_root, mt.sqrt(10))"
   ]
  },
  {
   "cell_type": "markdown",
   "id": "71f9f529",
   "metadata": {},
   "source": [
    "### Defining function and its derivative:"
   ]
  },
  {
   "cell_type": "markdown",
   "id": "cd9f8348",
   "metadata": {},
   "source": [
    "#### Newton-Raphson Method:\n",
    "+ For single variable function:\n",
    "\\begin{equation} x_(n+1) = x_n - \\frac{f(x_n)}{f'(x_n)}  \\end{equation}"
   ]
  },
  {
   "cell_type": "code",
   "execution_count": 3,
   "id": "dc433022",
   "metadata": {},
   "outputs": [],
   "source": [
    "def fun(b):\n",
    "    return (b**2-10)\n",
    "def dfun(b):\n",
    "    return (2*b)"
   ]
  },
  {
   "cell_type": "markdown",
   "id": "6de7e0ec",
   "metadata": {},
   "source": [
    "#### Max_Iteration condition:"
   ]
  },
  {
   "cell_type": "code",
   "execution_count": 4,
   "id": "e8eb5aaf",
   "metadata": {},
   "outputs": [],
   "source": [
    "def SolveNS(p,n):\n",
    "    store = []\n",
    "    error = []\n",
    "    temp  = 0\n",
    "    for i in range(0,n,1):\n",
    "        a1 = fun(p)\n",
    "        a2 = dfun(p)\n",
    "        p = p -(a1/a2)\n",
    "        store.append(p)\n",
    "        error.append(np.abs(p-temp))\n",
    "        temp = p\n",
    "    return (store,error)"
   ]
  },
  {
   "cell_type": "markdown",
   "id": "04a6aca0",
   "metadata": {},
   "source": [
    "#### Max_Error condition:"
   ]
  },
  {
   "cell_type": "code",
   "execution_count": 5,
   "id": "c2c8d9dd",
   "metadata": {},
   "outputs": [],
   "source": [
    "def solveNS(p,e_max):\n",
    "    store = []\n",
    "    error = []\n",
    "    temp  = 0\n",
    "    e=1\n",
    "    while(e>e_max):\n",
    "        a1 = fun(p)\n",
    "        a2 = dfun(p)\n",
    "        p = p -(a1/a2)\n",
    "        store.append(p)\n",
    "        e = np.abs(p-temp)\n",
    "        error.append(e)\n",
    "        temp = p\n",
    "    return (store,error)"
   ]
  },
  {
   "cell_type": "markdown",
   "id": "8310e007",
   "metadata": {},
   "source": [
    "### Solving:"
   ]
  },
  {
   "cell_type": "markdown",
   "id": "0d400c18",
   "metadata": {},
   "source": [
    "#### Max_Iteration condition:"
   ]
  },
  {
   "cell_type": "code",
   "execution_count": 13,
   "id": "cd981375",
   "metadata": {},
   "outputs": [],
   "source": [
    "intial_guess   = 3\n",
    "max_iter = 10\n",
    "ss, error = SolveNS(intial_guess,max_iter)"
   ]
  },
  {
   "cell_type": "markdown",
   "id": "406292f4",
   "metadata": {},
   "source": [
    "#### Max_Error condition:"
   ]
  },
  {
   "cell_type": "code",
   "execution_count": 14,
   "id": "8e04fe60",
   "metadata": {},
   "outputs": [],
   "source": [
    "intial_guess   = 3\n",
    "max_error = 1e-10\n",
    "ss2, error2 = solveNS(intial_guess,max_error)"
   ]
  },
  {
   "cell_type": "code",
   "execution_count": 34,
   "id": "3e91b7ca",
   "metadata": {
    "scrolled": false
   },
   "outputs": [
    {
     "name": "stdout",
     "output_type": "stream",
     "text": [
      "    x_values        errors\n",
      "1   3.166667  3.166667e+00\n",
      "2   3.162281  4.385965e-03\n",
      "3   3.162278  3.041585e-06\n",
      "4   3.162278  1.462830e-12\n",
      "5   3.162278  4.440892e-16\n",
      "6   3.162278  4.440892e-16\n",
      "7   3.162278  4.440892e-16\n",
      "8   3.162278  4.440892e-16\n",
      "9   3.162278  4.440892e-16\n",
      "10  3.162278  4.440892e-16\n",
      "\n",
      "MAX_ITERATION: 0.0\n",
      "Converged sol:  3.1622776601683795\n",
      "Excat sol:  3.1622776601683795\n"
     ]
    }
   ],
   "source": [
    "dict1 = {\"x_values\":ss,\"errors\": error}\n",
    "df = pd.DataFrame(dict1,index=(np.arange(1,max_iter+1,1)))\n",
    "ERROR_I = np.abs(ss[len(ss)-1]-mt.sqrt(10))\n",
    "\n",
    "print(df)\n",
    "print(\"\\nMAX_ITERATION:\",ERROR_I)\n",
    "print(\"Converged sol: \", ss[len(ss)-1])\n",
    "print(\"Excat sol: \", mt.sqrt(10))"
   ]
  },
  {
   "cell_type": "code",
   "execution_count": 33,
   "id": "c17c880e",
   "metadata": {},
   "outputs": [
    {
     "name": "stdout",
     "output_type": "stream",
     "text": [
      "   x_values2       errors2\n",
      "0   3.166667  3.166667e+00\n",
      "1   3.162281  4.385965e-03\n",
      "2   3.162278  3.041585e-06\n",
      "3   3.162278  1.462830e-12\n",
      "\n",
      "MAX_ERROR: 0.0\n",
      "Converged sol:  3.1622776601683795\n",
      "Excat sol:  3.1622776601683795\n"
     ]
    }
   ],
   "source": [
    "dict2 = {\"x_values2\":ss2,\"errors2\": error2}\n",
    "df2 = pd.DataFrame(dict2)\n",
    "ERROR = np.abs(ss2[len(ss2)-1]-mt.sqrt(10))\n",
    "\n",
    "print(df2)\n",
    "print()\n",
    "print(\"MAX_ERROR:\", ERROR )\n",
    "print(\"Converged sol: \", ss2[len(ss2)-1])\n",
    "print(\"Excat sol: \", mt.sqrt(10))"
   ]
  },
  {
   "cell_type": "markdown",
   "id": "74e825ea",
   "metadata": {},
   "source": [
    "### Plotting:"
   ]
  },
  {
   "cell_type": "code",
   "execution_count": 17,
   "id": "e82194b3",
   "metadata": {},
   "outputs": [],
   "source": [
    "%matplotlib inline\n",
    "%config InlineBackend.fig_format = 'svg'"
   ]
  },
  {
   "cell_type": "markdown",
   "id": "5b7ad188",
   "metadata": {},
   "source": [
    "#### Max_Iteration condition:"
   ]
  },
  {
   "cell_type": "code",
   "execution_count": 18,
   "id": "f15678b8",
   "metadata": {},
   "outputs": [
    {
     "data": {
      "text/plain": [
       "Text(0.5, 0, 'No.Iterations')"
      ]
     },
     "execution_count": 18,
     "metadata": {},
     "output_type": "execute_result"
    },
    {
     "data": {
      "image/png": "[encoded data removed]",
      "text/plain": [
       "<Figure size 500x700 with 2 Axes>"
      ]
     },
     "metadata": {},
     "output_type": "display_data"
    }
   ],
   "source": [
    "plt.figure(figsize=(5,7))\n",
    "\n",
    "# Solution-plot\n",
    "fig1 = plt.subplot(2,1,1)\n",
    "plt.plot(np.arange(0,max_iter,1),ss, \"r--o\")\n",
    "plt.title(\"Solution plot\", fontweight =\"bold\", fontsize=15,color=\"b\")\n",
    "plt.ylabel(\"Root_of_10\", fontsize=10,color=\"darkred\")\n",
    "plt.xlabel(\"No.Iterations\", fontsize=10,color=\"darkred\")\n",
    "plt.subplots_adjust(hspace=0.4)\n",
    "\n",
    "# Error-plot\n",
    "plt.subplot(2,1,2)\n",
    "plt.plot(np.arange(0,max_iter,1),error,\"g--o\")\n",
    "plt.title(\"Error Plot\", fontweight =\"bold\", fontsize=15,color=\"b\")\n",
    "plt.ylabel(\"Error\", fontsize=10,color=\"darkred\")\n",
    "plt.xlabel(\"No.Iterations\", fontsize=10,color=\"darkred\")\n"
   ]
  },
  {
   "cell_type": "markdown",
   "id": "33e2cff1",
   "metadata": {},
   "source": [
    "#### Max_Error condition:"
   ]
  },
  {
   "cell_type": "code",
   "execution_count": 19,
   "id": "a96394dc",
   "metadata": {
    "scrolled": false
   },
   "outputs": [
    {
     "data": {
      "text/plain": [
       "Text(0.5, 0, 'No.Iterations')"
      ]
     },
     "execution_count": 19,
     "metadata": {},
     "output_type": "execute_result"
    },
    {
     "data": {
      "image/png": "[encoded data removed]",
      "text/plain": [
       "<Figure size 500x700 with 2 Axes>"
      ]
     },
     "metadata": {},
     "output_type": "display_data"
    }
   ],
   "source": [
    "plt.figure(figsize=(5,7))\n",
    "\n",
    "# Solution-plot\n",
    "fig1 = plt.subplot(2,1,1)\n",
    "plt.plot(np.arange(0,len(ss2),1),ss2, \"r--o\")\n",
    "plt.title(\"Solution plot\", fontweight =\"bold\", fontsize=15,color=\"b\")\n",
    "plt.ylabel(\"Root_of_10\", fontsize=10,color=\"darkred\")\n",
    "plt.xlabel(\"No.Iterations\", fontsize=10,color=\"darkred\")\n",
    "plt.subplots_adjust(hspace=0.4)\n",
    "\n",
    "# Error-plot\n",
    "plt.subplot(2,1,2)\n",
    "plt.plot(np.arange(0,len(error2),1),error2,\"g--o\")\n",
    "plt.title(\"Error Plot\", fontweight =\"bold\", fontsize=15,color=\"b\")\n",
    "plt.ylabel(\"Error\", fontsize=10,color=\"darkred\")\n",
    "plt.xlabel(\"No.Iterations\", fontsize=10,color=\"darkred\")"
   ]
  },
  {
   "cell_type": "markdown",
   "id": "49ef963c",
   "metadata": {},
   "source": [
    "### Observation:\n",
    "+ **Solution** for **equation(1)** seems to converge after nearly **three-iteratrions**.\n",
    "+ **Error value** is also seems to converge after **third iteration**.\n",
    "+ Although solution and erros seems to converege after three iterations, it is **not true** and **small oscialltions** can be observed in easily in error values after third iteration.\n",
    "\n",
    "### Further think:\n",
    "+ Find **order of convergence** by first finding different **error ratios**!\n",
    "   + NS-is **2nd-order** convergence."
   ]
  }
 ],
 "metadata": {
  "kernelspec": {
   "display_name": "Python 3 (ipykernel)",
   "language": "python",
   "name": "python3"
  },
  "language_info": {
   "codemirror_mode": {
    "name": "ipython",
    "version": 3
   },
   "file_extension": ".py",
   "mimetype": "text/x-python",
   "name": "python",
   "nbconvert_exporter": "python",
   "pygments_lexer": "ipython3",
   "version": "3.9.13"
  }
 },
 "nbformat": 4,
 "nbformat_minor": 5
}
